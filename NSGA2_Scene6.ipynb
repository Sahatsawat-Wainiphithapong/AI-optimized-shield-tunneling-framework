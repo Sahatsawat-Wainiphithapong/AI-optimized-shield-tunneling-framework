{
  "nbformat": 4,
  "nbformat_minor": 0,
  "metadata": {
    "colab": {
      "provenance": [],
      "authorship_tag": "ABX9TyPWUKl3z4wJnptfbjlGcNt7",
      "include_colab_link": true
    },
    "kernelspec": {
      "name": "python3",
      "display_name": "Python 3"
    },
    "language_info": {
      "name": "python"
    }
  },
  "cells": [
    {
      "cell_type": "markdown",
      "metadata": {
        "id": "view-in-github",
        "colab_type": "text"
      },
      "source": [
        "<a href=\"https://colab.research.google.com/github/chain28/UNDSP-D-25-00030/blob/main/NSGA2_Scene6.ipynb\" target=\"_parent\"><img src=\"https://colab.research.google.com/assets/colab-badge.svg\" alt=\"Open In Colab\"/></a>"
      ]
    },
    {
      "cell_type": "markdown",
      "source": [
        "#README"
      ],
      "metadata": {
        "id": "psPax26kgAf2"
      }
    },
    {
      "cell_type": "markdown",
      "source": [
        "This notebook contains sample Python code designed to optimize operational parameters of the shield machine, such as face pressure, thrust force, grout pressure, and grout filling percentage, by evaluating a fitness metric that aims to reduce ground surface settlement while increasing the average penetration rate."
      ],
      "metadata": {
        "id": "PbGdXhVdgC-S"
      }
    },
    {
      "cell_type": "code",
      "execution_count": null,
      "metadata": {
        "colab": {
          "base_uri": "https://localhost:8080/"
        },
        "id": "WaE4skGaFtgY",
        "outputId": "b04972dd-a903-4195-dfc1-bb6f7f64f916"
      },
      "outputs": [
        {
          "output_type": "stream",
          "name": "stdout",
          "text": [
            "Mounted at /content/drive\n"
          ]
        }
      ],
      "source": [
        "from google.colab import drive\n",
        "drive.mount('/content/drive')"
      ]
    },
    {
      "cell_type": "code",
      "source": [
        "import numpy as np\n",
        "import pandas as pd\n",
        "import random\n",
        "import time\n",
        "import matplotlib.pyplot as plt\n",
        "\n",
        "import tensorflow as tf\n",
        "from tensorflow.keras.models import Sequential, load_model\n",
        "\n",
        "import matplotlib.pyplot as plt\n",
        "\n",
        "!pip install deap\n",
        "from deap import base, creator, tools, algorithms"
      ],
      "metadata": {
        "colab": {
          "base_uri": "https://localhost:8080/"
        },
        "id": "5900KfGBFuYx",
        "outputId": "70fb223b-66bd-4663-f0a4-b07ebe476c97"
      },
      "execution_count": null,
      "outputs": [
        {
          "output_type": "stream",
          "name": "stdout",
          "text": [
            "Collecting deap\n",
            "  Downloading deap-1.4.1-cp310-cp310-manylinux_2_5_x86_64.manylinux1_x86_64.manylinux_2_17_x86_64.manylinux2014_x86_64.whl.metadata (13 kB)\n",
            "Requirement already satisfied: numpy in /usr/local/lib/python3.10/dist-packages (from deap) (1.26.4)\n",
            "Downloading deap-1.4.1-cp310-cp310-manylinux_2_5_x86_64.manylinux1_x86_64.manylinux_2_17_x86_64.manylinux2014_x86_64.whl (135 kB)\n",
            "\u001b[?25l   \u001b[90m━━━━━━━━━━━━━━━━━━━━━━━━━━━━━━━━━━━━━━━━\u001b[0m \u001b[32m0.0/135.4 kB\u001b[0m \u001b[31m?\u001b[0m eta \u001b[36m-:--:--\u001b[0m\r\u001b[2K   \u001b[91m━━━━━━━━━━━━━━━━━━━━━━━━━━━━━━━━━━━━━━━\u001b[0m\u001b[90m╺\u001b[0m \u001b[32m133.1/135.4 kB\u001b[0m \u001b[31m5.6 MB/s\u001b[0m eta \u001b[36m0:00:01\u001b[0m\r\u001b[2K   \u001b[90m━━━━━━━━━━━━━━━━━━━━━━━━━━━━━━━━━━━━━━━━\u001b[0m \u001b[32m135.4/135.4 kB\u001b[0m \u001b[31m3.5 MB/s\u001b[0m eta \u001b[36m0:00:00\u001b[0m\n",
            "\u001b[?25hInstalling collected packages: deap\n",
            "Successfully installed deap-1.4.1\n"
          ]
        }
      ]
    },
    {
      "cell_type": "code",
      "source": [
        "SCENE_NO = 6\n",
        "\n",
        "# Settlement and penetration rate have a same set of max-min value\n",
        "MAX_value = [44.62, 59.2459666666667, 206.01, 13057.11, 0.5, 470.88, 335.333333333333, 24.8126366133333, 4.33686911]\n",
        "MIN_value = [3.33, 3.11027, 18.3333333333333, 5794.44, -1.28666666666667, 58.86, 70.6666666666667, 14.51313089, -5.96263661466667]\n",
        "\n",
        "# Boundaries range equal to +/- 1.25 SD <<< From penetration rate to avoid the redundant\n",
        "BOUND_UPPER = [0.906627970201264, 0.852962216205773, 0.494281970041358, 0.322248550410388]\n",
        "BOUND_LOWER = [0.196423739133436, 0.237969325993184, 0.219940370636207, 0.0949851801809877]"
      ],
      "metadata": {
        "id": "TUTguzOIIGzW"
      },
      "execution_count": null,
      "outputs": []
    },
    {
      "cell_type": "code",
      "source": [
        "start_time = time.time()\n",
        "\n",
        "df_optimized = pd.DataFrame()\n",
        "itr_count = 0\n",
        "\n",
        "def evaluate(individual):\n",
        "  global df_scene, df_optimized, itr_count\n",
        "\n",
        "  # Iteration counter\n",
        "  itr_count += 1\n",
        "  if itr_count % 100 == 0:\n",
        "    print(f\"Iteration: {itr_count}\")\n",
        "\n",
        "  # Check individual boundaries\n",
        "  if (individual[0] < BOUND_LOWER[0] or individual[0] > BOUND_UPPER[0] or # Face pressure\n",
        "    individual[1] < BOUND_LOWER[1] or individual[1] > BOUND_UPPER[1] or   # Thrust force\n",
        "    individual[2] < BOUND_LOWER[2] or individual[2] > BOUND_UPPER[2] or   # Grout pressure\n",
        "    individual[3] < BOUND_LOWER[3] or individual[3] > BOUND_UPPER[3]      # Percent grout filling\n",
        "    ):\n",
        "    obj1 = 50 #The model will inform the heave as high settlement and evaluate the individual as bad result\n",
        "    obj2 = 0\n",
        "    return obj1, obj2\n",
        "  else:\n",
        "    # Change individual to DataFrame and reshape to 11 rows and 4 columns\n",
        "    df_idv = pd.DataFrame([individual], columns=[\"Face pressure\", \"Thrust force\", \"Grout pressure\", \"Percent grout filling\"])\n",
        "    df_individual = pd.concat([df_idv]*11, ignore_index=True)\n",
        "\n",
        "    # Combine individual and scenario into one DataFrame for penetration rate\n",
        "    df_optim_pen = pd.concat([df_individual.iloc[:,0:2],df_scene.iloc[:,2],df_individual.iloc[:,2:],df_scene.iloc[:,5:]],axis=1)\n",
        "\n",
        "\n",
        "    # Predict penetration rate\n",
        "    y_pen_list = list()\n",
        "    for a in range(0,11):\n",
        "      X_pen  = df_optim_pen.iloc[a,:].values\n",
        "      Xt_pen = X_pen.reshape((1,1,X_pen.shape[0]))\n",
        "      y_pen_list.append(model_pen.predict(Xt_pen, verbose=0).squeeze())\n",
        "\n",
        "    df_y_pen_norm = pd.DataFrame(y_pen_list)\n",
        "    df_y_pen      = (df_y_pen_norm*(MAX_value[1]-MIN_value[1]))+MIN_value[1]\n",
        "    df_avg_y_pen  = df_y_pen.mean(axis=0)\n",
        "    obj2          = df_avg_y_pen.iloc[0]\n",
        "\n",
        "    # Combine individual and scenario into one DataFrame for settlement\n",
        "    df_optim_set = pd.concat([df_y_pen_norm, df_optim_pen],axis=1)\n",
        "\n",
        "    # Predict settlement\n",
        "    X_set = df_optim_set.values\n",
        "    Xt_set = X_set.reshape((1,11,X_set.shape[1]))\n",
        "    y_set_norm = model_set.predict(Xt_set, verbose=0).squeeze()\n",
        "    obj1 = (y_set_norm*(MAX_value[0]-MIN_value[0]))+MIN_value[0]\n",
        "\n",
        "    optimized_data = {\n",
        "      \"Settlement (mm)\": [obj1],\n",
        "      \"Avg. penetration rate (mm/min)\": [obj2],\n",
        "      \"Face pressure (kPa)\": [(df_individual.iloc[0,0]*(MAX_value[2]-MIN_value[2]))+MIN_value[2]],\n",
        "      \"Thrust force (kN)\": [(df_individual.iloc[0,1]*(MAX_value[3]-MIN_value[3]))+MIN_value[3]],\n",
        "      \"Grout pressure (kPa)\": [(df_individual.iloc[0,2]*(MAX_value[5]-MIN_value[5]))+MIN_value[5]],\n",
        "      \"Percent grout filling (%)\": [(df_individual.iloc[0,3]*(MAX_value[6]-MIN_value[6]))+MIN_value[6]]\n",
        "    }\n",
        "\n",
        "    df_optimized_new = pd.DataFrame(optimized_data)\n",
        "    df_optimized     = pd.concat([df_optimized, df_optimized_new], axis=0)\n",
        "    return obj1, obj2\n",
        "\n",
        "# Boundaries checker\n",
        "def checkBounds(minimum, maximum):\n",
        "    def decorator(func):\n",
        "        def wrapper(*args, **kwargs):\n",
        "            offspring = func(*args, **kwargs)\n",
        "            for child in offspring:\n",
        "                for i in range(len(child)):\n",
        "                    child[i] = max(min(child[i], maximum[i]), minimum[i])\n",
        "            return offspring\n",
        "        return wrapper\n",
        "    return decorator\n",
        "\n",
        "# =====[Main code]=====\n",
        "model_set = load_model(f\"/content/drive/MyDrive/Journal/A-02_Prediction - Model/B-01_BL - New - 25 cases/Callback_LSTM - SET - ARCH 1 Fold 2.keras\")\n",
        "model_pen = load_model(f\"/content/drive/MyDrive/Journal/A-02_Prediction - Model/B-01_BL - New - 25 cases/Callback_LSTM - PEN - Best.keras\")\n",
        "\n",
        "df_scene_all = pd.read_excel(\"/content/drive/MyDrive/Journal/B-01_Optim - Dataset/BL - Optim - Scene dataset (NEW).xlsx\")\n",
        "df_scene = df_scene_all.iloc[(SCENE_NO*11)-11:SCENE_NO*11,2:]\n",
        "df_scene = df_scene.reset_index(drop=True)\n",
        "\n",
        "# =====[Genetic operator]=====\n",
        "creator.create(\"FitnessMulti\", base.Fitness, weights=(-1.0, 1.0))\n",
        "creator.create(\"individual\", list, fitness=creator.FitnessMulti)\n",
        "\n",
        "toolbox = base.Toolbox()\n",
        "toolbox.register(\"attr_float\", random.uniform, 0, 1)\n",
        "toolbox.register(\"individual\", tools.initRepeat, creator.individual, toolbox.attr_float, n=4)\n",
        "toolbox.register(\"population\", tools.initRepeat, list, toolbox.individual)\n",
        "\n",
        "toolbox.register(\"mate\", tools.cxBlend, alpha=0.7)\n",
        "toolbox.register(\"mutate\", tools.mutGaussian, mu=0, sigma=0.1, indpb=0.3)\n",
        "toolbox.decorate(\"mate\", checkBounds(BOUND_LOWER, BOUND_UPPER))\n",
        "toolbox.decorate(\"mutate\", checkBounds(BOUND_LOWER, BOUND_UPPER))\n",
        "toolbox.register(\"select\", tools.selNSGA2)\n",
        "toolbox.register(\"evaluate\", evaluate)\n",
        "\n",
        "population = toolbox.population(n=300) # <<< 100 is dummy, do not forget to change to 300!!!\n",
        "algorithms.eaMuPlusLambda(population, toolbox, mu=300, lambda_=300, cxpb=0.7, mutpb=0.2, ngen=50, stats=None, verbose=False) # 20 generation is dummy, do not forget to change to 50!!!\n",
        "\n",
        "# Save a raw result\n",
        "\n",
        "df_optim_rearranged = df_optimized.sort_values(by=[\"Settlement (mm)\", \"Avg. penetration rate (mm/min)\"], ascending=[True, True])\n",
        "df_optim_rearranged = df_optim_rearranged.reset_index(drop=True)\n",
        "\n",
        "df_optim_rearranged.to_excel(f\"/content/drive/MyDrive/Journal/C-01_Optim - 4 params/Raw - Scene {SCENE_NO} - DUMMY.xlsx\")\n",
        "\n",
        "finish_time = time.time()\n",
        "print(f\"Total time: {(finish_time-start_time):.2f} seconds\")"
      ],
      "metadata": {
        "colab": {
          "base_uri": "https://localhost:8080/"
        },
        "id": "MWm7-JLLFy8r",
        "outputId": "05ed771f-faa2-4b97-dece-9413748525d5"
      },
      "execution_count": null,
      "outputs": [
        {
          "metadata": {
            "tags": null
          },
          "name": "stderr",
          "output_type": "stream",
          "text": [
            "/usr/local/lib/python3.10/dist-packages/keras/src/saving/saving_lib.py:576: UserWarning: Skipping variable loading for optimizer 'adam', because it has 20 variables whereas the saved optimizer has 2 variables. \n",
            "  saveable.load_own_variables(weights_store.get(inner_path))\n",
            "/usr/local/lib/python3.10/dist-packages/keras/src/saving/saving_lib.py:576: UserWarning: Skipping variable loading for optimizer 'adam', because it has 24 variables whereas the saved optimizer has 2 variables. \n",
            "  saveable.load_own_variables(weights_store.get(inner_path))\n"
          ]
        },
        {
          "output_type": "stream",
          "name": "stdout",
          "text": [
            "Iteration: 100\n",
            "Iteration: 200\n",
            "Iteration: 300\n",
            "Iteration: 400\n",
            "Iteration: 500\n",
            "Iteration: 600\n",
            "Iteration: 700\n",
            "Iteration: 800\n",
            "Iteration: 900\n",
            "Iteration: 1000\n",
            "Iteration: 1100\n",
            "Iteration: 1200\n",
            "Iteration: 1300\n",
            "Iteration: 1400\n",
            "Iteration: 1500\n",
            "Iteration: 1600\n",
            "Iteration: 1700\n",
            "Iteration: 1800\n",
            "Iteration: 1900\n",
            "Iteration: 2000\n",
            "Iteration: 2100\n",
            "Iteration: 2200\n",
            "Iteration: 2300\n",
            "Iteration: 2400\n",
            "Iteration: 2500\n",
            "Iteration: 2600\n",
            "Iteration: 2700\n",
            "Iteration: 2800\n",
            "Iteration: 2900\n",
            "Iteration: 3000\n",
            "Iteration: 3100\n",
            "Iteration: 3200\n",
            "Iteration: 3300\n",
            "Iteration: 3400\n",
            "Iteration: 3500\n",
            "Iteration: 3600\n",
            "Iteration: 3700\n",
            "Iteration: 3800\n",
            "Iteration: 3900\n",
            "Iteration: 4000\n",
            "Iteration: 4100\n",
            "Iteration: 4200\n",
            "Iteration: 4300\n",
            "Iteration: 4400\n",
            "Iteration: 4500\n",
            "Iteration: 4600\n",
            "Iteration: 4700\n",
            "Iteration: 4800\n",
            "Iteration: 4900\n",
            "Iteration: 5000\n",
            "Iteration: 5100\n",
            "Iteration: 5200\n",
            "Iteration: 5300\n",
            "Iteration: 5400\n",
            "Iteration: 5500\n",
            "Iteration: 5600\n",
            "Iteration: 5700\n",
            "Iteration: 5800\n",
            "Iteration: 5900\n",
            "Iteration: 6000\n",
            "Iteration: 6100\n",
            "Iteration: 6200\n",
            "Iteration: 6300\n",
            "Iteration: 6400\n",
            "Iteration: 6500\n",
            "Iteration: 6600\n",
            "Iteration: 6700\n",
            "Iteration: 6800\n",
            "Iteration: 6900\n",
            "Iteration: 7000\n",
            "Iteration: 7100\n",
            "Iteration: 7200\n",
            "Iteration: 7300\n",
            "Iteration: 7400\n",
            "Iteration: 7500\n",
            "Iteration: 7600\n",
            "Iteration: 7700\n",
            "Iteration: 7800\n",
            "Iteration: 7900\n",
            "Iteration: 8000\n",
            "Iteration: 8100\n",
            "Iteration: 8200\n",
            "Iteration: 8300\n",
            "Iteration: 8400\n",
            "Iteration: 8500\n",
            "Iteration: 8600\n",
            "Iteration: 8700\n",
            "Iteration: 8800\n",
            "Iteration: 8900\n",
            "Iteration: 9000\n",
            "Iteration: 9100\n",
            "Iteration: 9200\n",
            "Iteration: 9300\n",
            "Iteration: 9400\n",
            "Iteration: 9500\n",
            "Iteration: 9600\n",
            "Iteration: 9700\n",
            "Iteration: 9800\n",
            "Iteration: 9900\n",
            "Iteration: 10000\n",
            "Iteration: 10100\n",
            "Iteration: 10200\n",
            "Iteration: 10300\n",
            "Iteration: 10400\n",
            "Iteration: 10500\n",
            "Iteration: 10600\n",
            "Iteration: 10700\n",
            "Iteration: 10800\n",
            "Iteration: 10900\n",
            "Iteration: 11000\n",
            "Iteration: 11100\n",
            "Iteration: 11200\n",
            "Iteration: 11300\n",
            "Iteration: 11400\n",
            "Iteration: 11500\n",
            "Iteration: 11600\n",
            "Iteration: 11700\n",
            "Iteration: 11800\n",
            "Iteration: 11900\n",
            "Iteration: 12000\n",
            "Iteration: 12100\n",
            "Iteration: 12200\n",
            "Iteration: 12300\n",
            "Iteration: 12400\n",
            "Iteration: 12500\n",
            "Iteration: 12600\n",
            "Iteration: 12700\n",
            "Iteration: 12800\n",
            "Iteration: 12900\n",
            "Iteration: 13000\n",
            "Iteration: 13100\n",
            "Iteration: 13200\n",
            "Iteration: 13300\n",
            "Iteration: 13400\n",
            "Iteration: 13500\n",
            "Iteration: 13600\n",
            "Iteration: 13700\n",
            "Total time: 15047.55 seconds\n"
          ]
        }
      ]
    },
    {
      "cell_type": "code",
      "source": [
        "def identify_pareto(scores):\n",
        "  # Count the number of scores\n",
        "  population_size = scores.shape[0]\n",
        "  # Create a boolean array to indicate whether each point is on the Pareto front\n",
        "  pareto_front = np.ones(population_size, dtype=bool)\n",
        "  # Iterate through each point\n",
        "  for i in range(population_size):\n",
        "    # Compare point i with all other points\n",
        "    for j in range(population_size):\n",
        "      # Check if any other point dominates point i\n",
        "      if all(scores[j] <= scores[i]) and any(scores[j] < scores[i]):\n",
        "        # If yes, point i is not on the Pareto front\n",
        "          pareto_front[i] = 0\n",
        "          break\n",
        "  return pareto_front\n",
        "\n",
        "# Collect only fitness values\n",
        "df_fitness = df_optim_rearranged.copy().iloc[:,:2]\n",
        "df_fitness.iloc[:,1] *= -1\n",
        "fitness_value = df_fitness.values\n",
        "\n",
        "# Identify pareto front result\n",
        "pareto_front_id = identify_pareto(fitness_value)\n",
        "df_optim_rearranged[\"Pareto front ID\"] = pareto_front_id\n",
        "\n",
        "df_front     = df_optim_rearranged[df_optim_rearranged[\"Pareto front ID\"]]\n",
        "df_dominated = df_optim_rearranged[~df_optim_rearranged[\"Pareto front ID\"]]\n",
        "print(f\"Front: {df_front.shape[0]}/{df_optim_rearranged.shape[0]}\")\n",
        "\n",
        "df_front.to_excel(f\"/content/drive/MyDrive/Journal/C-01_Optim - 4 params/Front - Scene {SCENE_NO} - DUMMY.xlsx\")\n",
        "df_dominated.to_excel(f\"/content/drive/MyDrive/Journal/C-01_Optim - 4 params/DOMINATED - Scene {SCENE_NO} - DUMMY.xlsx\")\n",
        "\n",
        "plt.scatter(df_dominated.iloc[:,0], df_dominated.iloc[:,1]*-1, color=\"lightblue\", marker=\"x\", label=\"Dominated\")\n",
        "plt.scatter(df_front.iloc[:,0], df_front.iloc[:,1]*-1, color=\"teal\", marker=\"o\", label=\"Front\")\n",
        "plt.xlabel(\"Settlement (mm)\")\n",
        "plt.ylabel(\"Avg. penetration rate (mm/min)\")\n",
        "plt.legend()\n",
        "plt.show()"
      ],
      "metadata": {
        "id": "hTuxByKiJtp3",
        "colab": {
          "base_uri": "https://localhost:8080/",
          "height": 467
        },
        "outputId": "be423c25-cd02-45c6-b070-324ce06fca6c"
      },
      "execution_count": null,
      "outputs": [
        {
          "output_type": "stream",
          "name": "stdout",
          "text": [
            "Front: 4197/13495\n"
          ]
        },
        {
          "output_type": "display_data",
          "data": {
            "text/plain": [
              "<Figure size 640x480 with 1 Axes>"
            ],
            "image/png": "[encoded data removed]"
          },
          "metadata": {}
        }
      ]
    }
  ]
}